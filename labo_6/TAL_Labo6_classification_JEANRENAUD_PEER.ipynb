{
 "cells": [
  {
   "attachments": {},
   "cell_type": "markdown",
   "metadata": {},
   "source": [
    "<img src=\"https://heig-vd.ch/docs/default-source/doc-global-newsletter/2020-slim.svg\" alt=\"HEIG-VD Logo\" width=\"100\"/>\n",
    "\n",
    "# Cours TAL - Laboratoire 6\n",
    "# Classification de dépêches d’agence avec NLTK\n",
    "\n",
    "**Objectif**\n",
    "\n",
    "L’objectif de ce labo est de réaliser des expériences de classification de documents sous NLTK avec le\n",
    "corpus de dépêches Reuters. Le labo est à effectuer en binôme. Le labo sera jugé sur la qualité des\n",
    "expériences et sur la discussion des différentes options explorées. Vous devez remettre un notebook\n",
    "Jupyter présentant vos choix, votre code, vos résultats et les discussions. "
   ]
  },
  {
   "attachments": {},
   "cell_type": "markdown",
   "metadata": {},
   "source": [
    "### Description des expériences"
   ]
  },
  {
   "attachments": {},
   "cell_type": "markdown",
   "metadata": {},
   "source": [
    "1. **L’objectif général** est d’explorer au moins deux aspects parmi les choix qui se posent lors de\n",
    "la création d’un système probabiliste de classification de textes.\n",
    "\n"
   ]
  },
  {
   "attachments": {},
   "cell_type": "markdown",
   "metadata": {},
   "source": [
    "2. **Données** : les dépêches du corpus Reuters, tel qu’il est fourni par NLTK. Vous respecterez\n",
    "notamment la division en données d’entraînement (train) et données de test"
   ]
  },
  {
   "attachments": {},
   "cell_type": "markdown",
   "metadata": {},
   "source": [
    "3. **Hyper-paramètres** : veuillez étudier au moins deux hyperparamètres. Pour chacun, veuillez\n",
    "comparer au moins deux valeurs et indiquer laquelle fournit le meilleur score. Vous pourrez\n",
    "choisir parmi les hyperparamètres suivants :\n",
    "• options de prétraitement des textes : stopwords, lemmatisation, tout en minuscules.\n",
    "• options de représentation : présence/absence de mots indicateurs, nombre de mots\n",
    "indicateurs ; présence/absence/nombre de bigrammes, trigrammes ; autres traits :\n",
    "longueur de la dépêche, rapport tokens/types.\n",
    "• classifieurs et leurs paramètres : divers choix possibles (voir la documentation NLTK)."
   ]
  },
  {
   "attachments": {},
   "cell_type": "markdown",
   "metadata": {},
   "source": [
    "4. Veuillez définir et entraîner **trois classifieurs binaires** : chacun prédit si une dépêche est\n",
    "étiquetée ou non avec la catégorie respective. Le premier classifieur binaire sera pour\n",
    "l’étiquette ‘money-fx’, le deuxième concernera ‘grain’, et le troisième sera pour ‘nat-gas’."
   ]
  },
  {
   "attachments": {},
   "cell_type": "markdown",
   "metadata": {},
   "source": [
    "5. Pour chacun des classifieurs, optimisez les hyperparamètres sans toucher aux données de test\n",
    "NLTK. Divisez les données d’entraînement NLTK en 80% train et 20% dev, et choisissez les\n",
    "options qui donnent les meilleurs scores sur dev."
   ]
  },
  {
   "attachments": {},
   "cell_type": "markdown",
   "metadata": {},
   "source": [
    "6. Veuillez donner les scores de rappel, précision et f-mesure de chacun des trois classifieurs,\n",
    "avec les meilleurs hyperparamètres, sur les données de test.\n"
   ]
  },
  {
   "attachments": {},
   "cell_type": "markdown",
   "metadata": {},
   "source": [
    "7. Veuillez définir **un quatrième classifieur multi-classe** qui assigne une étiquette parmi quatre :\n",
    "les trois choisies ci-dessus plus la catégorie ‘other’. Vous devrez nettoyer les données, car un\n",
    "petit nombre de dépêches sont annotées avec plusieurs étiquettes : dans ce cas, gardez\n",
    "seulement la première. "
   ]
  },
  {
   "attachments": {},
   "cell_type": "markdown",
   "metadata": {},
   "source": [
    "8. Veuillez donner les scores de rappel, précision et f-mesure de ce classifieur pour chacune des\n",
    "trois étiquettes choisies. Comment les scores se comparent-ils à ceux des trois classifieurs\n",
    "binaires ? "
   ]
  },
  {
   "attachments": {},
   "cell_type": "markdown",
   "metadata": {},
   "source": [
    "9. **Documentation** : livre NLTK, [chapitre 2](https://www.nltk.org/book/ch02.html) pour accéder au corpus Reuters et le [chapitre 6](https://www.nltk.org/book/ch06.html) pour\n",
    "la classification ; puis http://www.nltk.org/howto/classify.html pour les classifieurs dans\n",
    "NLTK ; enfin, Introduction to Information Retrieval (https://nlp.stanford.edu/IRbook/information-retrieval-book.html), [chapitre 13](https://nlp.stanford.edu/IR-book/html/htmledition/text-classification-and-naive-bayes-1.html), pour une discussion générale de\n",
    "méthodes de classification, et des exemples de scores obtenus sur certaines étiquettes."
   ]
  }
 ],
 "metadata": {
  "kernelspec": {
   "display_name": "CoursTAL",
   "language": "python",
   "name": "python3"
  },
  "language_info": {
   "codemirror_mode": {
    "name": "ipython",
    "version": 3
   },
   "file_extension": ".py",
   "mimetype": "text/x-python",
   "name": "python",
   "nbconvert_exporter": "python",
   "pygments_lexer": "ipython3",
   "version": "3.7.16"
  },
  "orig_nbformat": 4
 },
 "nbformat": 4,
 "nbformat_minor": 2
}
