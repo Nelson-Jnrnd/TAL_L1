{
 "cells": [
  {
   "cell_type": "markdown",
   "metadata": {},
   "source": [
    "# TAL Labo 1b : Segmentation de textes avec NLTK\n",
    "\n",
    "**Objectifs**\n",
    "\n",
    "Le but de cette deuxième partie du Labo 1 du [Cours TAL](https://cyberlearn.hes-so.ch/course/view.php?id=14966) est d'effectuer quelques opérations élémentaires sur les textes en utilisant la boîte à outils [NLTK](http://www.nltk.org/) en Python.  Vous utiliserez l'environnement mis en place dans la partie 1a : [Python 3.7 ou 3.8](https://www.python.org/) avec _notebooks_ [Jupyter](https://jupyter.org/), soit localement sur votre ordinateur (avec ou sans Conda) ou en ligne sur [Google Colab](https://colab.research.google.com).\n",
    "\n",
    "Vous utiliserez NLTK pour obtenir des textes en ligne ou localement, puis vous les segmenterez en phrases et en mots (appelés aussi _tokens_).  Vous calculerez aussi des statistiques sur ces textes.  Vous travaillerez d'abord sur des textes en anglais (1b et 1c), puis en français (1d)."
   ]
  },
  {
   "cell_type": "markdown",
   "metadata": {},
   "source": [
    "## 1. NLTK: Natural Language Toolkit\n",
    "\n",
    "Pour ajouter NLTK à votre installation locale de Python, suivez les instructions sur le [site web NLTK](http://www.nltk.org/install.html).  Sur Google Colab, NLTK est déjà installé.\n",
    "\n",
    "Pour utiliser NLTK en Python (y compris dans un _notebook_ Jupyter), vous pouvez écrire `import nltk`, puis accéder à toutes les commandes avec le préfixe `nltk.`.  Si vous écrivez `from nltk.book import *`, cela importera des commandes et des variables (p.ex. une collection de textes) qui seront accessibles sans utiliser le préfixe. \n",
    "\n",
    "**Remarques**\n",
    "* Le but de ce laboratoire est de vous initier à NLTK.  Vous pouvez aussi parcourir le [Chapitre 1](http://www.nltk.org/book/ch01.html) du [livre NLTK (*NLP with Python*)](http://www.nltk.org/book/) et essayer les commandes indiquées.  \n",
    "* Veuillez noter que le [livre en ligne](http://www.nltk.org/book/) est mis à jour pour Python 3, mais la [version imprimée](http://shop.oreilly.com/product/9780596516499.do) que l'on peut parfois trouver en PDF est pour Python 2. \n",
    "* NLTK inclut un gestionnaire de téléchargements qui peut être invoqué depuis un interpréteur Python en ligne de commande (écrire `python3` en ligne de commande) avec les deux commandes `import nltk` puis `nltk.download()`.  Cela vous permettra de télécharger de nombreux corpus _additionnels_ (i.e. collections de textes), mais que nous n'utiliserons pas en laboratoire."
   ]
  },
  {
   "cell_type": "code",
   "execution_count": 1,
   "metadata": {
    "pycharm": {
     "is_executing": true
    }
   },
   "outputs": [],
   "source": [
    "import nltk\n",
    "#from nltk.book import *"
   ]
  },
  {
   "cell_type": "markdown",
   "metadata": {},
   "source": [
    "Écrivez une phrase en anglais (liste de mots / string) que vous appelerez `sentence1`.  \n",
    "\n",
    "Affichez sa longueur avec `len()`.  \n",
    "\n",
    "Utilisez `nltk.bigrams` pour générer tous les bi-grammes (couples de mots adjacents) à partir de cette liste.  Un exemple est montré dans la [section 3.3 du chapitre 1 du livre NLTK](http://www.nltk.org/book/ch01.html#collocations-and-bigrams).  \n",
    "\n",
    "Enfin, trier les bi-grammes par ordre alphabétique et afficher le résultat."
   ]
  },
  {
   "cell_type": "code",
   "execution_count": 4,
   "metadata": {},
   "outputs": [
    {
     "name": "stdout",
     "output_type": "stream",
     "text": [
      "the sentence length is 4\n",
      "[('This', 'is'), ('a', 'sentence'), ('is', 'a')]\n"
     ]
    }
   ],
   "source": [
    "sentence1 = [\"This\", \"is\", \"a\", \"sentence\"]\n",
    "print(\"the sentence length is\", len(sentence1))\n",
    "bigram = list(nltk.bigrams(sentence1))\n",
    "bigram.sort()\n",
    "print(bigram)"
   ]
  },
  {
   "cell_type": "markdown",
   "metadata": {},
   "source": [
    "Défnissez une chaîne appelée `string2` contenant une phrase.  Utilisez le *tokenizer* de NLTK (fonction `nltk.word_tokenize`, expliquée dans la [section 3.1 du livre NLTK](http://www.nltk.org/book/ch03.html#sec-accessing-text)) pour segmenter la chaîne en mots, qui seront rassemblés dans une liste que vous appelerez `sentence2`.  Affichez cette liste."
   ]
  },
  {
   "cell_type": "code",
   "execution_count": 7,
   "metadata": {},
   "outputs": [
    {
     "name": "stdout",
     "output_type": "stream",
     "text": [
      "['This', 'is', 'a', 'second', 'sentence', '.']\n"
     ]
    }
   ],
   "source": [
    "string2 = \"This is a second sentence.\"\n",
    "sentence2 = nltk.word_tokenize(string2)\n",
    "print(sentence2)"
   ]
  },
  {
   "cell_type": "markdown",
   "metadata": {},
   "source": [
    "## 2. Utiliser NLTK pour télécharger, segmenter et sauvegarder un texte\n",
    "\n",
    "Inspirez-vous du [chapitre 3 (3.1. Processing Raw Text) du livre NLTK](http://www.nltk.org/book/ch03.html) pour télécharger un fichier avec du texte en ligne, par exemple un livre anglais du Projet Gutenberg.  Stocker le contenu dans une chaîne."
   ]
  },
  {
   "cell_type": "code",
   "execution_count": 8,
   "metadata": {},
   "outputs": [],
   "source": [
    "from urllib import request\n",
    "url = \"https://www.gutenberg.org/files/2701/2701-0.txt\"\n",
    "response = request.urlopen(url)\n",
    "book_str = response.read().decode('utf8')"
   ]
  },
  {
   "cell_type": "markdown",
   "metadata": {},
   "source": [
    "En inspectant la chaîne précédente, déterminez quelle partie du début et de la fin il faut enlever pour garder le texte principal.  Vous pouvez utiliser la notation dite de *slicing* en Python, ou identifier les chaînes où commence et finit le véritable texte.  Quelle est la longueur de ce texte en caractères ?  (Lien utile : [support d'Unicode dans Python](https://docs.python.org/3.7/howto/unicode.html).)"
   ]
  },
  {
   "cell_type": "code",
   "execution_count": 18,
   "metadata": {},
   "outputs": [
    {
     "name": "stdout",
     "output_type": "stream",
     "text": [
      "Lengh of the text is 1191768\n",
      "First 100 characters  Call me Ishmael. Some years ago—never mind how long precisely—having little or no money in my purse,\n"
     ]
    }
   ],
   "source": [
    "# Nous avons repéré les premières et dernières phrases du livre, puis déterminé leur indice.\n",
    "# Ensuite, nous avons utilisé ces indices pour extraire le texte du livre qui nous intéresse.\n",
    "start_index = book_str.find(\"Call me Ishmael.\")\n",
    "end_index = book_str.rfind(\"*** END OF THE PROJECT GUTENBERG EBOOK MOBY-DICK; OR THE WHALE ***\")\n",
    "\n",
    "text_trimmed = book_str[start_index:end_index]\n",
    "text_trimmed = text_trimmed.replace('\\r', '')\n",
    "text_trimmed = text_trimmed.replace('\\n', ' ')\n",
    "print(\"Lengh of the text is\", len(text_trimmed))\n",
    "print(\"First 100 characters \", text_trimmed[:100]) "
   ]
  },
  {
   "cell_type": "markdown",
   "metadata": {},
   "source": [
    "Vous allez maintenant segmenter le texte en phrases et les écrire dans un fichier avec une phrase par ligne.  Vous allez également segmenter chaque phrase en _tokens_ (mots et ponctuations), et créer un autre fichier, avec une phrase par ligne, et un espace entre chaque _token_.  Vous aurez besoin des fonctions suivantes de nltk:\n",
    "* `nltk.sent_tokenize(...)` (documentée [ici](https://www.nltk.org/api/nltk.tokenize.html#nltk.tokenize.word_tokenize)) (notez que le nom \"sentence tokenize\" n'est pas très logique)\n",
    "* `nltk.word_tokenize(...)` (documentée [ici](https://www.nltk.org/api/nltk.tokenize.html#nltk.tokenize.sent_tokenize))"
   ]
  },
  {
   "cell_type": "markdown",
   "metadata": {},
   "source": [
    "**Segmentez le texte en phrases avec NLTK.** Affichez le nombre de phrases obtenues, et un court extrait de 5-6 phrases.  Comment appréciez-vous la qualité de la segmentation ?  *Note :* si certains caractères spéciaux vous semblent péjorer la segmentation, vous pouvez les remplacer dans la chaîne globale avec la fonction `.replace('s1', 's2')`."
   ]
  },
  {
   "cell_type": "code",
   "execution_count": 19,
   "metadata": {
    "scrolled": true
   },
   "outputs": [
    {
     "name": "stdout",
     "output_type": "stream",
     "text": [
      "['Call me Ishmael.', 'Some years ago—never mind how long precisely—having little or no money in my purse, and nothing particular to interest me on shore, I thought I would sail about a little and see the watery part of the world.', 'It is a way I have of driving off the spleen and regulating the circulation.', 'Whenever I find myself growing grim about the mouth; whenever it is a damp, drizzly November in my soul; whenever I find myself involuntarily pausing before coffin warehouses, and bringing up the rear of every funeral I meet; and especially whenever my hypos get such an upper hand of me, that it requires a strong moral principle to prevent me from deliberately stepping into the street, and methodically knocking people’s hats off—then, I account it high time to get to sea as soon as I can.', 'This is my substitute for pistol and ball.']\n"
     ]
    }
   ],
   "source": [
    "#text_trimmed = text_trimmed.replace(';', '.')\n",
    "text_sentences = nltk.tokenize.sent_tokenize(text_trimmed, language='english')\n",
    "print(text_sentences[:5])"
   ]
  },
  {
   "attachments": {},
   "cell_type": "markdown",
   "metadata": {},
   "source": [
    "Le texte semble bien segmenté, on voit que la fonction sent_tokenize repère bien une phrase lorsqu'elle se termine par un '.', '?', '!', etc. Dans notre cas, une phrase est séparée par plusieurs ';', la fonction ne sépare pas avec ce caractère et donc cela nous donne une très longue phrase, ce qui peut être résolu avec text_trimmed.replace(';', '.') si besoin."
   ]
  },
  {
   "cell_type": "markdown",
   "metadata": {},
   "source": [
    "Enregistrez le résultat au format texte, en écrivant chaque phrase sur une ligne.  Vérifiez le résultat en examinant le fichier avec un éditeur de texte."
   ]
  },
  {
   "cell_type": "code",
   "execution_count": 13,
   "metadata": {},
   "outputs": [],
   "source": [
    "import os"
   ]
  },
  {
   "cell_type": "code",
   "execution_count": 14,
   "metadata": {},
   "outputs": [],
   "source": [
    "filename1 = \"sent_tokenized_1.txt\"\n",
    "if os.path.exists(filename1): \n",
    "    os.remove(filename1)\n",
    "with open(filename1, 'a', encoding='utf8') as fd:\n",
    "    for sentence in text_sentences:\n",
    "        fd.write(\"%s\\n\" % sentence)"
   ]
  },
  {
   "cell_type": "markdown",
   "metadata": {},
   "source": [
    "**Segmentez maintenant chaque phrase en tokens (mots et ponctuations).**  Stockez le résultat dans une nouvelle variable (liste de listes).  Affichez quelques phrases et commentez la qualité de la tokenisation."
   ]
  },
  {
   "cell_type": "code",
   "execution_count": 20,
   "metadata": {},
   "outputs": [
    {
     "name": "stdout",
     "output_type": "stream",
     "text": [
      "[['Call', 'me', 'Ishmael', '.'], ['Some', 'years', 'ago—never', 'mind', 'how', 'long', 'precisely—having', 'little', 'or', 'no', 'money', 'in', 'my', 'purse', ',', 'and', 'nothing', 'particular', 'to', 'interest', 'me', 'on', 'shore', ',', 'I', 'thought', 'I', 'would', 'sail', 'about', 'a', 'little', 'and', 'see', 'the', 'watery', 'part', 'of', 'the', 'world', '.'], ['It', 'is', 'a', 'way', 'I', 'have', 'of', 'driving', 'off', 'the', 'spleen', 'and', 'regulating', 'the', 'circulation', '.'], ['Whenever', 'I', 'find', 'myself', 'growing', 'grim', 'about', 'the', 'mouth', ';', 'whenever', 'it', 'is', 'a', 'damp', ',', 'drizzly', 'November', 'in', 'my', 'soul', ';', 'whenever', 'I', 'find', 'myself', 'involuntarily', 'pausing', 'before', 'coffin', 'warehouses', ',', 'and', 'bringing', 'up', 'the', 'rear', 'of', 'every', 'funeral', 'I', 'meet', ';', 'and', 'especially', 'whenever', 'my', 'hypos', 'get', 'such', 'an', 'upper', 'hand', 'of', 'me', ',', 'that', 'it', 'requires', 'a', 'strong', 'moral', 'principle', 'to', 'prevent', 'me', 'from', 'deliberately', 'stepping', 'into', 'the', 'street', ',', 'and', 'methodically', 'knocking', 'people', '’', 's', 'hats', 'off—then', ',', 'I', 'account', 'it', 'high', 'time', 'to', 'get', 'to', 'sea', 'as', 'soon', 'as', 'I', 'can', '.'], ['This', 'is', 'my', 'substitute', 'for', 'pistol', 'and', 'ball', '.']]\n"
     ]
    }
   ],
   "source": [
    "text_words = list()\n",
    "for sentence in text_sentences:\n",
    "    text_words.append(nltk.tokenize.word_tokenize(sentence, language='english', preserve_line=False))\n",
    "print(text_words[:5])"
   ]
  },
  {
   "attachments": {},
   "cell_type": "markdown",
   "metadata": {},
   "source": [
    "Le texte semble tout à fait bien segmenté."
   ]
  },
  {
   "cell_type": "markdown",
   "metadata": {},
   "source": [
    "Calculez le nombre total de _tokens_ obtenus."
   ]
  },
  {
   "cell_type": "code",
   "execution_count": 22,
   "metadata": {},
   "outputs": [
    {
     "name": "stdout",
     "output_type": "stream",
     "text": [
      "Nombre de token : 250394\n"
     ]
    }
   ],
   "source": [
    "from functools import reduce\n",
    "\n",
    "nb_tokens = reduce(lambda count, l: count + len(l), text_words, 0)\n",
    "print(\"Nombre de token :\", nb_tokens)"
   ]
  },
  {
   "cell_type": "markdown",
   "metadata": {},
   "source": [
    "Enregistrez le résultat au format texte, en écrivant chaque phrase sur une ligne et en insérant un espace entre chaque _token_.  Vérifiez le résultat en examinant le fichier avec un éditeur de texte."
   ]
  },
  {
   "cell_type": "code",
   "execution_count": 23,
   "metadata": {},
   "outputs": [],
   "source": [
    "filename2 = \"tokens.txt\"\n",
    "if os.path.exists(filename2): \n",
    "    os.remove(filename2)\n",
    "with open(filename2, 'a', encoding='utf8') as fd:\n",
    "    for sentence in text_words:\n",
    "        fd.write(' '.join(sentence) + '\\n')"
   ]
  },
  {
   "cell_type": "markdown",
   "metadata": {},
   "source": [
    "Il est également possible de *tokeniser un texte sans le segmenter préalablement en phrases*.\n",
    "* Effectuez cette opération directement sur la chaîne de caractères contenant tout le texte.  \n",
    "* Affichez et observez un court extrait. \n",
    "* Demandez le nombre total de tokens et comparez-le avec le nombre précédent.  \n",
    "* Il n'est pas demandé ici d'écrire le résultat dans un fichier."
   ]
  },
  {
   "cell_type": "code",
   "execution_count": 24,
   "metadata": {},
   "outputs": [
    {
     "name": "stdout",
     "output_type": "stream",
     "text": [
      "Number of tokens: 250394\n",
      "['Call', 'me', 'Ishmael', '.', 'Some', 'years', 'ago—never', 'mind', 'how', 'long', 'precisely—having', 'little', 'or', 'no', 'money', 'in', 'my', 'purse', ',', 'and', 'nothing', 'particular', 'to', 'interest', 'me', 'on', 'shore', ',', 'I', 'thought', 'I', 'would', 'sail', 'about', 'a', 'little', 'and', 'see', 'the', 'watery', 'part', 'of', 'the', 'world', '.', 'It', 'is', 'a', 'way', 'I', 'have', 'of', 'driving', 'off', 'the', 'spleen', 'and', 'regulating', 'the', 'circulation', '.', 'Whenever', 'I', 'find', 'myself', 'growing', 'grim', 'about', 'the', 'mouth', ';', 'whenever', 'it', 'is', 'a', 'damp', ',', 'drizzly', 'November', 'in', 'my', 'soul', ';', 'whenever', 'I', 'find', 'myself', 'involuntarily', 'pausing', 'before', 'coffin', 'warehouses', ',', 'and', 'bringing', 'up', 'the', 'rear', 'of', 'every']\n"
     ]
    }
   ],
   "source": [
    "text_words_2 = nltk.tokenize.word_tokenize(text_trimmed, language='english', preserve_line=False)\n",
    "print(\"Number of tokens:\", len(text_words_2))\n",
    "print(text_words_2[:100])"
   ]
  },
  {
   "attachments": {},
   "cell_type": "markdown",
   "metadata": {},
   "source": [
    "Le nombre de token est le même qu'avec la variable précédente nb_tokens"
   ]
  },
  {
   "cell_type": "markdown",
   "metadata": {},
   "source": [
    "## 3. Calculer diverses statistiques avec NLTK\n",
    "Pour calculer des statistiques, il faut d'abord créer un objet de type `nltk.Text`.  Ces objets peuvent être créés avec : \n",
    "1. la chaîne de caractères constituant le texte\n",
    "2. la liste de tous les mots du texte (chaînes)\n",
    "3. la liste de toutes les phrases (liste de listes)\n",
    "\n",
    "**Attention:**\n",
    "\n",
    "* seule l'option (2) permet d'utiliser correctement les méthodes de `nltk.Text`\n",
    "* les méthodes `nltk.word_tokenize()` et `nltk.sent_tokenize()` s'appliquent à des chaînes, pas des `nltk.Text`"
   ]
  },
  {
   "cell_type": "markdown",
   "metadata": {},
   "source": [
    "Créez et stockez dans une variable un objet `nltk.Text` à partir de la liste des tokens de votre texte.  (Vous pouvez appeler ici `nltk.word_tokenize`.)"
   ]
  },
  {
   "cell_type": "code",
   "execution_count": 25,
   "metadata": {},
   "outputs": [],
   "source": [
    "# Please write your Python code in this cell and execute it.\n",
    "text = nltk.Text(text_words_2)"
   ]
  },
  {
   "cell_type": "markdown",
   "metadata": {},
   "source": [
    "Le [chapitre 1 du livre NLTK](http://www.nltk.org/book/ch01.html) montre des exemples d'opérations que l'on peut effectuer sur un objet `nltk.Text`.  Par exemple, on peut afficher les occurrences d'un mot et leur contexte immédiat avec la méthode `concordance`, ou trouver des mots qui ont des contextes semblables à un mot donné avec `similar`.  Veuillez expérimenter ci-dessous avec ces deux méthodes et afficher un résultat à chaque fois."
   ]
  },
  {
   "cell_type": "code",
   "execution_count": 26,
   "metadata": {},
   "outputs": [
    {
     "name": "stdout",
     "output_type": "stream",
     "text": [
      "Displaying 25 of 1000 matches:\n",
      "s the overwhelming idea of the great whale himself . Such a portentous and myst\n",
      "deliverable , nameless perils of the whale ; these , with all the attending mar\n",
      "st soul , endless processions of the whale , and , mid most of them all , one g\n",
      " place where the first dead American whale was stranded . Where else but from N\n",
      "s alone visible ; and an exasperated whale , purposing to spring clean over the\n",
      " Javan seas , and run away with by a whale , years afterwards slain off the Cap\n",
      "en—the bar—a rude attempt at a right whale ’ s head . Be that how it may , ther\n",
      "e stands the vast arched bone of the whale ’ s jaw , so wide , a coach might al\n",
      "at they made a straight wake for the whale ’ s mouth—the bar—when the wrinkled \n",
      "eboard representing a man striking a whale . Of things not properly belonging t\n",
      "IZA Who were towed out of sight by a Whale , On the Off-shore Ground in the PAC\n",
      "ws of his boat was killed by a Sperm Whale on the coast of Japan , _August_ 3_d\n",
      "d joy— “ The ribs and terrors in the whale , Arched over me a dismal gloom , Wh\n",
      "is ear to my complaints— No more the whale did me confine . “ With speed he fle\n",
      "ent of that stifling hour , when the whale shall hold him in the smallest of hi\n",
      " heeds he the far rush of the mighty whale , which even now with open mouth is \n",
      " yawning jaws awaiting him ; and the whale shoots-to all his ivory teeth , like\n",
      "iverance of him from the sea and the whale . Shipmates , I do not place Jonah b\n",
      "have seen , God came upon him in the whale , and swallowed him down to living g\n",
      "out of the belly of hell ’ —when the whale grounded upon the ocean ’ s utmost b\n",
      " cold and blackness of the sea , the whale came breeching up towards the warm a\n",
      "and side by side the world-wandering whale ships lay silent and safely moored a\n",
      "small-e fish-e ; Queequeg kill-e big whale ! ” “ Look you , ” roared the Captai\n",
      "were the lower jaw of an exasperated whale . In the midst of this consternation\n",
      "th the long sharp teeth of the sperm whale , inserted there for pins , to faste\n"
     ]
    }
   ],
   "source": [
    "# Please write your Python code in this cell and execute it.\n",
    "text.concordance(\"whale\")"
   ]
  },
  {
   "cell_type": "code",
   "execution_count": 27,
   "metadata": {},
   "outputs": [
    {
     "name": "stdout",
     "output_type": "stream",
     "text": [
      "ship boat sea time man captain world deck pequod whales crew air head\n",
      "line other water moment side thing way\n"
     ]
    }
   ],
   "source": [
    "# Please write your Python code in this cell and execute it.\n",
    "text.similar(\"whale\")"
   ]
  },
  {
   "cell_type": "markdown",
   "metadata": {},
   "source": [
    "En utilisant la méthode `collocation_list`, veuilez afficher les 10 collocations les plus fréquentes dans votre texte."
   ]
  },
  {
   "cell_type": "code",
   "execution_count": 28,
   "metadata": {},
   "outputs": [
    {
     "name": "stderr",
     "output_type": "stream",
     "text": [
      "[nltk_data] Downloading package stopwords to\n",
      "[nltk_data]     C:\\Users\\Vincent\\AppData\\Roaming\\nltk_data...\n",
      "[nltk_data]   Package stopwords is already up-to-date!\n"
     ]
    },
    {
     "data": {
      "text/plain": [
       "[('Sperm', 'Whale'),\n",
       " ('Moby', 'Dick'),\n",
       " ('White', 'Whale'),\n",
       " ('old', 'man'),\n",
       " ('Captain', 'Ahab'),\n",
       " ('sperm', 'whale'),\n",
       " ('Right', 'Whale'),\n",
       " ('New', 'Bedford'),\n",
       " ('Captain', 'Peleg'),\n",
       " ('Mr.', 'Starbuck')]"
      ]
     },
     "execution_count": 28,
     "metadata": {},
     "output_type": "execute_result"
    }
   ],
   "source": [
    "# Please write your Python code in this cell and execute it\n",
    "nltk.download('stopwords')\n",
    "text.collocation_list()[:10]"
   ]
  },
  {
   "cell_type": "markdown",
   "metadata": {},
   "source": [
    "On peut déterminer le vocabulaire d'un texte (c'est-à-dire la liste des _types_) simplement en convertissant la liste des mots (occurrences ou _tokens_) à un `set` en Python.  \n",
    "* Veuillez calculer ainsi le vocabulaire de votre texte.\n",
    "* Combien de mots différents a-t-il ?  (En incluant les ponctuations et tout autre symbole.) \n",
    "* Quels sont les mots qui ont plus de 15 lettres ?  (Ou une autre taille qui vous semble intéressante.)"
   ]
  },
  {
   "cell_type": "code",
   "execution_count": 29,
   "metadata": {},
   "outputs": [
    {
     "name": "stdout",
     "output_type": "stream",
     "text": [
      "Total number of tokens:  250394\n",
      "Total number of unique tokens:  21366\n",
      "First 300 unique tokens sorted: \n",
      "['!', '$', '&', '(', ')', '*', ',', '-Westers', '-wester', '.', '.—A', '.—Another', '.—I', '.—In', '.—Of', '.—The', '.—This', '.—Though', '.—Under', '1', '10', '10,800', '100', '101', '102', '103', '104', '105', '106', '107', '108', '109', '11', '110', '111', '112', '113', '114', '115', '116', '117', '118', '119', '12', '120', '121', '122', '123', '124', '125', '126', '127', '128', '129', '13', '13,000', '130', '131', '132', '133', '134', '135', '14', '144,000', '1492', '15', '150,000', '15th', '16', '1671', '1695', '16th', '17', '1726', '1750', '1775', '1776', '1778', '1779', '1788', '1791', '1793', '18', '180', '1807', '1819', '1820', '1825', '1833', '1836', '1839', '1842', '1850', '1851', '19', '1ST', '1_st_', '2', '2,800', '20', '20,000', '20,000,000', '2000', '200th', '21', '21st', '22', '23', '24', '25', '25,000', '26', '27', '275th', '28', '29', '2ND', '3', '3._', '30', '31', '31_st_', '32', '33', '34', '35', '36', '37', '38', '39', '3D', '3_d_', '4', '4,000', '4,000,000', '40', '400,000', '41', '42', '43', '44', '45', '46', '47', '48', '49', '4TH', '5', '5,400', '50', '500', '51', '52', '53', '54', '55', '550', '550,000', '56', '57', '58', '59', '5TH', '6', '60', '60,000', '61', '62', '63', '64', '65', '66', '67', '68', '69', '7', '7,000,000', '70', '71', '72', '72,000', '73', '74', '75', '76', '77', '78', '79', '8', '80', '81', '82', '83', '84', '85', '86', '87', '88', '89', '9', '90', '91', '92', '93', '94', '95', '96', '97', '98', '99', ':', ';', '?', 'A', 'A.D.', 'AFFGHANISTAN.', 'AHAB', 'ALL', 'ALONE', 'AM', 'AND', 'AZORE', 'Abashed', 'Abednego', 'Abel', 'Abjectus', 'Aboard', 'Abominable', 'About', 'Above', 'Abraham', 'Academy', 'Accessory', 'According', 'Accordingly', 'Accursed', 'Achilles', 'Actium', 'Acushnet', 'Adam', 'Adieu', 'Adios', 'Admiral', 'Admirals', 'Advance', 'Advancement', 'Adventures', 'Adverse', 'Advocate', 'Affected', 'Affidavit', 'Affrighted', 'Afric', 'Africa', 'African', 'Africans', 'Aft', 'After', 'Afterwards', 'Again', 'Against', 'Agassiz', 'Ages', 'Ah', 'Ahab', 'Ahab.', 'Ahab_', 'Ahabs', 'Ahab—', 'Ahab—his', 'Ahab—in', 'Ahab—invested', 'Ahab—so', 'Ahab—there', 'Ahab—though', 'Ahasuerus', 'Ahaz-dial', 'Ahoy', 'Ain', 'Air', 'Akin', 'Alabama', 'Aladdin', 'Alarmed', 'Alas', 'Albatross', 'Albemarle', 'Albert', 'Albicore', 'Albino', 'Aldrovandi', 'Aldrovandus', 'Alexander', 'Alexanders', 'Alfred', 'Algerine', 'Algiers', 'Alike', 'Alive', 'All']\n",
      "\n",
      "\n",
      "\n",
      "Words with more than 18 characters:  ['Queequeg—especially', 'ocean-perishing—straight', 'fishers—Right-Whale', 'stander-of-mast-heads', 'standers-of-mast-heads', 'thought-engendering', 'swayings—coyings—flutterings', 'naturalists—Olassen', 'dentistical-looking', 'simply—particularly', 'line-of-battle-ship', 'Daggoo—instinctively', 'deceptive—spoutings', 'country-schoolmaster', 'Forty-barrel-bull—poor', 'Coke-upon-Littleton', 'interpreters—myself', 'tastefully-ornamented', 'line-of-battle-ship', 'uninterpenetratingly', 'time—queer—sir—queer', 'astrological-looking', 'East-south-east—which', 'jack-of-all-trades.', 'exclamation-like—that', 'immortality-preserver', 'cruel—forbidding—now', 'twisted—corkscrewed', 'surface—involuntarily']\n"
     ]
    }
   ],
   "source": [
    "# Please write your Python code in this cell and execute it.\n",
    "print(\"Total number of tokens: \", len(text_words_2))\n",
    "\n",
    "# Convert token list to set \n",
    "unique_tokens = set(text_words_2)\n",
    "print(\"Total number of unique tokens: \", len(unique_tokens))\n",
    "\n",
    "#print the first 300 unique tokens sorted\n",
    "print(\"First 300 unique tokens sorted: \")\n",
    "sortedList = sorted(unique_tokens)\n",
    "print(sortedList[:300])\n",
    "\n",
    "# Words with more than 18 characters\n",
    "long_words = [w for w in text_words_2 if len(w) > 18]\n",
    "print(\"\\n\\n\\nWords with more than 18 characters: \", long_words)"
   ]
  },
  {
   "cell_type": "markdown",
   "metadata": {},
   "source": [
    "**Distributions de fréquence (Frequency Distributions)**\n",
    "\n",
    "NLTK peut facilement calculer les fréquences de tous les _tokens_ dans un `nltk.Text`.  Le résultat est stocké dans un objet de type `FreqDist` (pour _frequency distribution_) comme montré dans la [section 3.1 du chapitre 1 du livre NLTK](http://www.nltk.org/book/ch01.html#frequency-distributions).  À partir de là, on peut déterminer les mots les plus fréquents.\n",
    "\n",
    "Veuillez construire la distribution de fréquences de votre texte."
   ]
  },
  {
   "cell_type": "code",
   "execution_count": 30,
   "metadata": {},
   "outputs": [
    {
     "name": "stdout",
     "output_type": "stream",
     "text": [
      "<FreqDist with 21366 samples and 250394 outcomes>\n"
     ]
    },
    {
     "data": {
      "text/plain": [
       "[(',', 18924),\n",
       " ('the', 13478),\n",
       " ('.', 6731),\n",
       " ('of', 6412),\n",
       " ('and', 5899),\n",
       " ('to', 4433),\n",
       " ('a', 4414),\n",
       " (';', 4139),\n",
       " ('in', 3821),\n",
       " ('that', 2879),\n",
       " ('’', 2707),\n",
       " ('his', 2422),\n",
       " ('it', 2134),\n",
       " ('I', 2061),\n",
       " ('!', 1740),\n",
       " ('s', 1712),\n",
       " ('is', 1651),\n",
       " ('with', 1631),\n",
       " ('he', 1621),\n",
       " ('was', 1607)]"
      ]
     },
     "execution_count": 30,
     "metadata": {},
     "output_type": "execute_result"
    }
   ],
   "source": [
    "# Please write your Python code in this cell and execute it.\n",
    "fdist = nltk.FreqDist(text_words_2)\n",
    "print(fdist)\n",
    "\n",
    "fdist.most_common(20)"
   ]
  },
  {
   "cell_type": "markdown",
   "metadata": {},
   "source": [
    "Affichez les mots qui ont plus de 4 lettres parmi les 70 mots les plus fréquents."
   ]
  },
  {
   "cell_type": "code",
   "execution_count": 31,
   "metadata": {},
   "outputs": [
    {
     "name": "stdout",
     "output_type": "stream",
     "text": [
      "[('whale', 738), ('there', 682), ('which', 614), ('their', 598)]\n"
     ]
    }
   ],
   "source": [
    "# Please write your Python code in this cell and execute it.\n",
    "seventyMostCommon = fdist.most_common(70)\n",
    "atLeast4Chars = [w for w in seventyMostCommon if len(w[0]) > 4]\n",
    "print(atLeast4Chars) "
   ]
  },
  {
   "cell_type": "markdown",
   "metadata": {},
   "source": [
    "## 4. Graphiques\n",
    "La librairie `matplotlib` permet d'afficher les statistiques des textes sous forme graphique.  Pour la rendre accessible dans le _notebook_ (une fois installée dans Python), il faut exécuter les deux lignes suivantes.\n",
    "\n",
    "Nous allons utiliser les fonctions graphiques de NLTK, mais il est possible de générer directement des graphiques à partir de deux listes `x_values` et `y_values` avec la commande `matplotlib.pyplot.plot(x_values, y_values)`."
   ]
  },
  {
   "cell_type": "code",
   "execution_count": 32,
   "metadata": {},
   "outputs": [],
   "source": [
    "import matplotlib.pyplot as plt\n",
    "%matplotlib inline"
   ]
  },
  {
   "cell_type": "markdown",
   "metadata": {},
   "source": [
    "Affichez le graphique cumulatif des nombres d'occurrences des 70 mots les plus fréquents de votre texte, en vous inspirant de la  [section 3.1 du chapitre 1 du livre NLTK](http://www.nltk.org/book/ch01.html#frequency-distributions)."
   ]
  },
  {
   "cell_type": "code",
   "execution_count": 33,
   "metadata": {},
   "outputs": [
    {
     "data": {
      "image/png": "[encoded data removed]",
      "text/plain": [
       "<Figure size 1500x400 with 1 Axes>"
      ]
     },
     "metadata": {},
     "output_type": "display_data"
    }
   ],
   "source": [
    "# Please write your Python code in this cell and execute it.\n",
    "plt.figure(figsize=(15, 4))\n",
    "ax = fdist.plot(70, cumulative=True, title=\"Cumulative frequency of the 70 most common tokens\")"
   ]
  },
  {
   "cell_type": "markdown",
   "metadata": {},
   "source": [
    "Maintenant, construisez une liste avec la longueur de chaque _token_ du texte (la liste aura donc autant de nombres que de tokens).  Créez un nouvel objet `FreqDist` à partir de cette liste, et affichez la distribution (cette fois-ci _non_-cumulative) des nombres d'occurrences.  Quelle est la longueur la plus fréquente ?  Comment évolue la longueur en fonction de la fréquence ?"
   ]
  },
  {
   "cell_type": "code",
   "execution_count": 34,
   "metadata": {},
   "outputs": [
    {
     "data": {
      "image/png": "[encoded data removed]",
      "text/plain": [
       "<Figure size 640x480 with 1 Axes>"
      ]
     },
     "metadata": {},
     "output_type": "display_data"
    },
    {
     "data": {
      "text/plain": [
       "<AxesSubplot:title={'center':'Distribution of token lengths'}, xlabel='Samples', ylabel='Counts'>"
      ]
     },
     "execution_count": 34,
     "metadata": {},
     "output_type": "execute_result"
    }
   ],
   "source": [
    "# Please write your Python code in this cell and execute it.\n",
    "tokenLengths = [len(w) for w in text_words_2]\n",
    "tokenDist = nltk.FreqDist(tokenLengths)\n",
    "tokenDist.plot(title = \"Distribution of token lengths\")"
   ]
  },
  {
   "attachments": {},
   "cell_type": "markdown",
   "metadata": {},
   "source": [
    "Les longueurs les plus fréquentes sont 3 et 1. On peut supposer que cela est du au token \"the\" et aux caractères spéciaux pour la ponctuation ('.', ',') On voit ensuite que plus la longueur du token augmente, plus son nombre d'occurence diminue jusqu'à devenir proche de zéro à partir d'une longueur de 15."
   ]
  },
  {
   "cell_type": "markdown",
   "metadata": {},
   "source": [
    "## Fin de la partie 1b\n",
    "Veuillez nettoyer autant que possible ce _notebook_, exécutez une dernière fois toutes les cellules pour obtenir les résultats demandés, et enregistrez le _notebook_.  Puis ajoutez-le dans une archive _zip_ avec les _notebook_ des parties 1c et 1d, et soumettez l'archive individuellement sur Cyberlearn (_Laboratoire 1_). "
   ]
  }
 ],
 "metadata": {
  "kernelspec": {
   "display_name": "CoursTAL",
   "language": "python",
   "name": "python3"
  },
  "language_info": {
   "codemirror_mode": {
    "name": "ipython",
    "version": 3
   },
   "file_extension": ".py",
   "mimetype": "text/x-python",
   "name": "python",
   "nbconvert_exporter": "python",
   "pygments_lexer": "ipython3",
   "version": "3.7.16"
  },
  "vscode": {
   "interpreter": {
    "hash": "ef76d3c6098e415e4ac98608661cf2469b8e43b3beff7d95090733179742e710"
   }
  }
 },
 "nbformat": 4,
 "nbformat_minor": 2
}
